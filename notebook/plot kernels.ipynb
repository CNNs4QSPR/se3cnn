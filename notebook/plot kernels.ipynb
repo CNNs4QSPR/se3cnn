{
 "cells": [
  {
   "cell_type": "code",
   "execution_count": null,
   "metadata": {
    "collapsed": true
   },
   "outputs": [],
   "source": [
    "from se3_cnn import basis_kernels\n",
    "from se3_cnn import SO3"
   ]
  },
  {
   "cell_type": "code",
   "execution_count": null,
   "metadata": {},
   "outputs": [],
   "source": [
    "# Render a big kernel\n",
    "size = 13\n",
    "n_radial = 1\n",
    "upsampling = 1\n",
    "R_in = SO3.repr5\n",
    "R_out = SO3.repr5\n",
    "\n",
    "radial_window_dict = {\n",
    "    'radial_window_fct': basis_kernels.gaussian_window_fct_convenience_wrapper,\n",
    "    'radial_window_fct_kwargs': {\n",
    "        'mode': 'compromise',\n",
    "        'border_dist': 0.,\n",
    "        'sigma': .6\n",
    "    }\n",
    "}\n",
    "\n",
    "basis = basis_kernels.cube_basis_kernels_analytical(size, R_in, R_out, radial_window_dict)\n",
    "#basis = basis_kernels.orthonormalize(basis)\n",
    "\n",
    "print(basis.shape)\n",
    "\n",
    "# Check equivariance\n",
    "basis_kernels.check_basis_equivariance(basis, R_out, R_in, 3.14/4, 0.12, 0.05)"
   ]
  },
  {
   "cell_type": "code",
   "execution_count": null,
   "metadata": {},
   "outputs": [],
   "source": [
    "# 3D plot\n",
    "import ipyvolume as ipv\n",
    "\n",
    "dl = 0.138\n",
    "amp = 0.002\n",
    "ipv.quickvolshow(basis[2, 0, 0], \n",
    "                 level=[0.5 - dl, 0.5 + dl], \n",
    "                 level_width=0.05, \n",
    "                 opacity=0.05, \n",
    "                 data_min=-amp, data_max=amp)"
   ]
  },
  {
   "cell_type": "code",
   "execution_count": null,
   "metadata": {
    "scrolled": false
   },
   "outputs": [],
   "source": [
    "# Plot of 2D cuts\n",
    "import numpy as np\n",
    "import matplotlib.pyplot as plt\n",
    "%matplotlib inline\n",
    "\n",
    "def plot_kernel(basis, base_element=0, zheight=0):\n",
    "    size = basis.shape[-1]\n",
    "    dim_out = basis.shape[1]\n",
    "    dim_in = basis.shape[2]\n",
    "    \n",
    "    vmin = basis.mean() - 2 * basis.std()\n",
    "    vmax = basis.mean() + 2 * basis.std()\n",
    "\n",
    "    plt.figure(figsize=(2*dim_in, 2*dim_out))\n",
    "    for i in range(dim_out):\n",
    "        for j in range(dim_in):\n",
    "            plt.subplot(dim_out, dim_in, dim_in * i + j + 1)\n",
    "            plt.imshow(basis[base_element, i, j, size//2 + round(size / 2 * zheight), :, :], vmin=vmin, vmax=vmax)\n",
    "            plt.axis(\"off\")\n",
    "    plt.tight_layout()\n",
    "    \n",
    "for i in range(basis.shape[0]):\n",
    "    print(i)\n",
    "    plot_kernel(basis, base_element=i)\n",
    "    plt.show()"
   ]
  },
  {
   "cell_type": "code",
   "execution_count": null,
   "metadata": {
    "collapsed": true
   },
   "outputs": [],
   "source": []
  },
  {
   "cell_type": "code",
   "execution_count": null,
   "metadata": {
    "collapsed": true
   },
   "outputs": [],
   "source": []
  }
 ],
 "metadata": {
  "kernelspec": {
   "display_name": "Python 3",
   "language": "python",
   "name": "python3"
  },
  "language_info": {
   "codemirror_mode": {
    "name": "ipython",
    "version": 3
   },
   "file_extension": ".py",
   "mimetype": "text/x-python",
   "name": "python",
   "nbconvert_exporter": "python",
   "pygments_lexer": "ipython3",
   "version": "3.6.3"
  }
 },
 "nbformat": 4,
 "nbformat_minor": 2
}
