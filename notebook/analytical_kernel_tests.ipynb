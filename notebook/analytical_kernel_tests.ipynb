{
 "cells": [
  {
   "cell_type": "code",
   "execution_count": 11,
   "metadata": {},
   "outputs": [
    {
     "name": "stdout",
     "output_type": "stream",
     "text": [
      "The autoreload extension is already loaded. To reload it, use:\n",
      "  %reload_ext autoreload\n"
     ]
    }
   ],
   "source": [
    "import numpy as np\n",
    "import matplotlib.pyplot as plt\n",
    "%matplotlib inline\n",
    "\n",
    "%load_ext autoreload\n",
    "%autoreload 2\n",
    "\n",
    "from se3_cnn import basis_kernels\n",
    "from se3_cnn import SO3"
   ]
  },
  {
   "cell_type": "code",
   "execution_count": 28,
   "metadata": {},
   "outputs": [
    {
     "name": "stdout",
     "output_type": "stream",
     "text": [
      "\n",
      "kernel size: 7\n",
      "shell radii: [0 1 2 3]\n",
      "shell bandlimit: [0 4 6 8]\n",
      "\n",
      "check_basis_equivariance for R_in=repr5 -> R_out=repr5:\n",
      "[ 0.87521099  0.87521099  0.26460547  0.14271229  0.10268137  0.11542211\n",
      "  0.87521099  0.26460547  0.14271229  0.10268137  0.11542211  0.87521099\n",
      "  0.26460547  0.14271229  0.10268137  0.11542211]\n",
      "basis of shape (16, 5, 5, 7, 7, 7)\n"
     ]
    }
   ],
   "source": [
    "size = 7\n",
    "n_radial = size//2+1 # hard coded\n",
    "upsampling = 1 # hard coded\n",
    "\n",
    "reps = [SO3.repr1, SO3.repr3, SO3.repr5, SO3.repr7, SO3.repr9, SO3.repr11]\n",
    "order_in = 2\n",
    "order_out = 2\n",
    "R_in = reps[order_in]\n",
    "R_out = reps[order_out]\n",
    "\n",
    "basis = basis_kernels.cube_basis_kernels_analytical(size, n_radial, upsampling, R_out, R_in)\n",
    "\n",
    "print('basis of shape', basis.shape)"
   ]
  },
  {
   "cell_type": "code",
   "execution_count": null,
   "metadata": {},
   "outputs": [],
   "source": [
    "avg_equiv = np.zeros(len(basis))\n",
    "N_samples = 100\n",
    "for a,b,c in 2*np.pi*np.random.rand(N_samples,3):\n",
    "    avg_equiv += basis_kernels.check_basis_equivariance(basis, R_out, R_in, a,b,c)\n",
    "avg_equiv /= N_samples\n",
    "print(avg_equiv)"
   ]
  },
  {
   "cell_type": "code",
   "execution_count": null,
   "metadata": {
    "scrolled": true
   },
   "outputs": [],
   "source": [
    "def plot_cube(cube):\n",
    "    vmin, vmax = cube.min(), cube.max()\n",
    "    size = cube.shape[-1]\n",
    "    plt.figure(figsize=(1.5*size, 1.5))\n",
    "    for idx_z in range(size):\n",
    "        plt.subplot(1, 7, idx_z+1)\n",
    "        plt.imshow(cube[:,:,idx_z], vmin=vmin, vmax=vmax)\n",
    "        plt.axis(\"off\")\n",
    "    plt.tight_layout()\n",
    "    plt.show()\n",
    "\n",
    "for idx_basis,b_elem in enumerate(basis):\n",
    "    print('#################################################################')\n",
    "    print('Basis element {}'.format(idx_basis))\n",
    "    print('#################################################################')\n",
    "    for m,out_ch in zip(np.arange(-order_out, order_out+1), b_elem):\n",
    "        print('\\nout channel m = {}'.format(m))\n",
    "        for n,in_ch in zip(np.arange(-order_in, order_in+1), out_ch):\n",
    "            print('in channel n = {}'.format(n))\n",
    "            plot_cube(in_ch)"
   ]
  },
  {
   "cell_type": "code",
   "execution_count": null,
   "metadata": {},
   "outputs": [],
   "source": []
  }
 ],
 "metadata": {
  "kernelspec": {
   "display_name": "Python 3",
   "language": "python",
   "name": "python3"
  },
  "language_info": {
   "codemirror_mode": {
    "name": "ipython",
    "version": 3
   },
   "file_extension": ".py",
   "mimetype": "text/x-python",
   "name": "python",
   "nbconvert_exporter": "python",
   "pygments_lexer": "ipython3",
   "version": "3.6.4"
  }
 },
 "nbformat": 4,
 "nbformat_minor": 2
}
