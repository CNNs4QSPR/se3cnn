{
 "cells": [
  {
   "cell_type": "code",
   "execution_count": 7,
   "metadata": {},
   "outputs": [
    {
     "name": "stdout",
     "output_type": "stream",
     "text": [
      "The autoreload extension is already loaded. To reload it, use:\n",
      "  %reload_ext autoreload\n"
     ]
    }
   ],
   "source": [
    "import numpy as np\n",
    "import matplotlib.pyplot as plt\n",
    "%matplotlib inline\n",
    "\n",
    "%load_ext autoreload\n",
    "%autoreload 2\n",
    "\n",
    "from se3_cnn import basis_kernels\n",
    "from se3_cnn import SO3\n",
    "from lie_learn.representations.SO3.wigner_d import wigner_D_matrix"
   ]
  },
  {
   "cell_type": "markdown",
   "metadata": {},
   "source": [
    "Sample basis"
   ]
  },
  {
   "cell_type": "code",
   "execution_count": 8,
   "metadata": {},
   "outputs": [
    {
     "name": "stdout",
     "output_type": "stream",
     "text": [
      "basis of shape (3, 1, 3, 7, 7, 7)\n"
     ]
    }
   ],
   "source": [
    "size = 7\n",
    "n_radial = size//2+1 # hard coded\n",
    "upsampling = 1 # hard coded\n",
    "\n",
    "reps = [SO3.repr1, SO3.repr3, SO3.repr5, SO3.repr7, SO3.repr9, SO3.repr11]\n",
    "order_in = 1\n",
    "order_out = 0\n",
    "R_in = reps[order_in]\n",
    "R_out = reps[order_out]\n",
    "\n",
    "basis = basis_kernels.cube_basis_kernels_analytical(size, n_radial, upsampling, R_out, R_in)\n",
    "\n",
    "print('basis of shape', basis.shape)"
   ]
  },
  {
   "cell_type": "markdown",
   "metadata": {},
   "source": [
    "Check basis equivariance. For better results adapt radial bandlimits and shell thickness.\n",
    "If the equivariance drops in the last equivariance values it is likely that the outer shell ranges too far out of the kernel."
   ]
  },
  {
   "cell_type": "code",
   "execution_count": 9,
   "metadata": {},
   "outputs": [
    {
     "name": "stdout",
     "output_type": "stream",
     "text": [
      "[ 0.98748742  0.95806136  0.73254993]\n"
     ]
    },
    {
     "data": {
      "image/png": "[encoded data removed]",
      "text/plain": [
       "<matplotlib.figure.Figure at 0x7f4b6f455978>"
      ]
     },
     "metadata": {},
     "output_type": "display_data"
    }
   ],
   "source": [
    "avg_equiv = np.zeros(len(basis))\n",
    "N_samples = 25\n",
    "for a,b,c in 2*np.pi*np.random.rand(N_samples,3):\n",
    "    avg_equiv += basis_kernels.check_basis_equivariance(basis, R_out, R_in, a,b,c)\n",
    "avg_equiv /= N_samples\n",
    "\n",
    "print(avg_equiv)\n",
    "plt.figure(figsize=(10,3))\n",
    "plt.stem(avg_equiv)\n",
    "for y in np.arange(.2,1,.2):\n",
    "    plt.axhline(y, lw=.2, c='gray')\n",
    "plt.ylim([0, 1])\n",
    "plt.ylabel('Equivariance value')\n",
    "plt.tick_params(axis='x', bottom='off', labelbottom='off')\n",
    "plt.show()"
   ]
  },
  {
   "cell_type": "markdown",
   "metadata": {},
   "source": [
    "Plot all basis elements. Each row corresponds to the z-slices of one kernel in/out channel."
   ]
  },
  {
   "cell_type": "code",
   "execution_count": null,
   "metadata": {
    "scrolled": true
   },
   "outputs": [],
   "source": [
    "def plot_cube(cube):\n",
    "    ''' plot view aligned with z-axis (z-slices) '''\n",
    "    vmin, vmax = cube.min(), cube.max()\n",
    "    size = cube.shape[-1]\n",
    "    plt.figure(figsize=(1.5*size, 1.5))\n",
    "    for idx_z in range(size):\n",
    "        plt.subplot(1, 7, idx_z+1)\n",
    "        plt.imshow(cube[:,:,idx_z], vmin=vmin, vmax=vmax)\n",
    "        plt.axis(\"off\")\n",
    "    plt.tight_layout()\n",
    "    plt.show()\n",
    "\n",
    "for idx_basis,b_elem in enumerate(basis):\n",
    "    print('#################################################################')\n",
    "    print('Basis element {}'.format(idx_basis))\n",
    "    print('#################################################################')\n",
    "    for m,out_ch in zip(np.arange(-order_out, order_out+1), b_elem):\n",
    "        print('\\nout channel m = {}'.format(m))\n",
    "        for n,in_ch in zip(np.arange(-order_in, order_in+1), out_ch):\n",
    "            print('in channel n = {}'.format(n))\n",
    "            plot_cube(in_ch)"
   ]
  },
  {
   "cell_type": "code",
   "execution_count": null,
   "metadata": {},
   "outputs": [],
   "source": [
    "def steer_basis_elem(basis_elem, order_in, order_out, alpha, beta, gamma):\n",
    "    ''' rotate basis element by steering it via the tensor representation '''\n",
    "    R_in  = reps[order_in](alpha, beta, gamma)\n",
    "    R_out = reps[order_out](alpha, beta, gamma)\n",
    "    return np.einsum('mn,no...,op->mp...', R_out, basis_elem, R_in.T)\n",
    "\n",
    "def rotate_basis_elem(basis_elem, alpha, beta, gamma):\n",
    "    ''' rotate basis element via bicubic interpolation '''\n",
    "    from se3_cnn import SO3\n",
    "    from scipy.ndimage import affine_transform\n",
    "\n",
    "    n = basis.shape[0]\n",
    "    dim_in = SO3.dim(R_in)\n",
    "    dim_out = SO3.dim(R_out)\n",
    "    size = basis.shape[-1]\n",
    "\n",
    "    x = basis.reshape((-1, size, size, size))\n",
    "    y = np.empty_like(x)\n",
    "\n",
    "    rot = SO3.rot(alpha, beta, gamma)\n",
    "    center = (np.array(x.shape[1:]) - 1) / 2\n",
    "\n",
    "    for k in range(y.shape[0]):\n",
    "        y[k] = affine_transform(x[k], matrix=rot, offset=center - np.dot(rot, center))\n",
    "\n",
    "    return y.reshape(basis.shape)"
   ]
  },
  {
   "cell_type": "markdown",
   "metadata": {},
   "source": [
    "Only for debugging\n",
    "Assumes order_in=1, order_out=0. Then the kernels correspond to spherical harmonics Y^1.\n",
    "Compares rotation by steering and by interpolation."
   ]
  },
  {
   "cell_type": "code",
   "execution_count": null,
   "metadata": {},
   "outputs": [],
   "source": [
    "alpha_d,beta_d,gamma_d = 20, 30, 0\n",
    "alpha,beta,gamma = np.pi/180*np.array([alpha_d,beta_d,gamma_d])\n",
    "\n",
    "b = basis[0]\n",
    "bs = steer_basis_elem(b, order_in, order_out, alpha,beta,gamma)\n",
    "br = rotate_basis_elem(basis, alpha,beta,gamma)[0]\n",
    "\n",
    "print('non rotated')\n",
    "for cube in b.squeeze():\n",
    "    plot_cube(cube)\n",
    "print('steered by alpha={}, beta={}, gamma={} degree'.format(alpha_d,beta_d,gamma_d))\n",
    "for cube in bs.squeeze():\n",
    "    plot_cube(cube)\n",
    "print('rotated by alpha={}, beta={}, gamma={} degree'.format(alpha_d,beta_d,gamma_d))\n",
    "for cube in br.squeeze():\n",
    "    plot_cube(cube)"
   ]
  },
  {
   "cell_type": "code",
   "execution_count": null,
   "metadata": {},
   "outputs": [],
   "source": [
    "basis_elem = b\n",
    "\n",
    "from ipywidgets import interact, FloatSlider, RadioButtons\n",
    "\n",
    "alpha_slider = FloatSlider(min=0, max=360, step=1, value=0)\n",
    "beta_slider  = FloatSlider(min=0, max=180, step=1, value=0)\n",
    "gamma_slider = FloatSlider(min=0, max=360, step=1, value=0)\n",
    "# decorate the plot function with an environment from the UIs:\n",
    "@interact(alpha=alpha_slider, beta=beta_slider, gamma=gamma_slider)\n",
    "def steer_plot(alpha,beta,gamma):\n",
    "    alpha *= np.pi/180\n",
    "    beta  *= np.pi/180\n",
    "    gamma *= np.pi/180\n",
    "    steered = steer_basis_elem(basis_elem, order_in, order_out, alpha, beta, gamma)\n",
    "    for cube in steered.squeeze():\n",
    "        plot_cube(cube)"
   ]
  },
  {
   "cell_type": "code",
   "execution_count": null,
   "metadata": {},
   "outputs": [],
   "source": []
  }
 ],
 "metadata": {
  "kernelspec": {
   "display_name": "Python 3",
   "language": "python",
   "name": "python3"
  },
  "language_info": {
   "codemirror_mode": {
    "name": "ipython",
    "version": 3
   },
   "file_extension": ".py",
   "mimetype": "text/x-python",
   "name": "python",
   "nbconvert_exporter": "python",
   "pygments_lexer": "ipython3",
   "version": "3.6.4"
  }
 },
 "nbformat": 4,
 "nbformat_minor": 2
}
